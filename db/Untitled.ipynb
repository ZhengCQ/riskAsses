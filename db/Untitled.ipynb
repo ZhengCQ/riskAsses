{
 "cells": [
  {
   "cell_type": "code",
   "execution_count": 49,
   "metadata": {},
   "outputs": [],
   "source": [
    "infi = 'Grantham_Scores.txt'"
   ]
  },
  {
   "cell_type": "code",
   "execution_count": 50,
   "metadata": {},
   "outputs": [],
   "source": [
    "aachange_dict = {}\n",
    "with open(infi, 'r') as fi:\n",
    "    header = fi.readline().strip().split('\\t')\n",
    "    idxs = len(header)\n",
    "    start = 0\n",
    "    for line in fi:\n",
    "        score = line.strip().split('\\t')\n",
    "        aa = line.strip().split('\\t')[-1]\n",
    "        #print (aa,score)\n",
    "        for idx in range(start,idxs):\n",
    "            aachange_dict.setdefault(header[idx],{}).setdefault(aa,int(score[idx-start]))\n",
    "            aachange_dict.setdefault(aa,{}).setdefault(header[idx],int(score[idx-start]))\n",
    "        start = start + 1"
   ]
  },
  {
   "cell_type": "code",
   "execution_count": 45,
   "metadata": {},
   "outputs": [],
   "source": [
    "import json"
   ]
  },
  {
   "cell_type": "code",
   "execution_count": 51,
   "metadata": {},
   "outputs": [],
   "source": [
    "with open('Grantham_Scores.json','w') as fi:\n",
    "    json.dump(aachange_dict,fi,indent=4)"
   ]
  },
  {
   "cell_type": "code",
   "execution_count": null,
   "metadata": {},
   "outputs": [],
   "source": []
  }
 ],
 "metadata": {
  "kernelspec": {
   "display_name": "Python 2",
   "language": "python",
   "name": "python2"
  },
  "language_info": {
   "codemirror_mode": {
    "name": "ipython",
    "version": 2
   },
   "file_extension": ".py",
   "mimetype": "text/x-python",
   "name": "python",
   "nbconvert_exporter": "python",
   "pygments_lexer": "ipython2",
   "version": "2.7.14"
  }
 },
 "nbformat": 4,
 "nbformat_minor": 2
}
